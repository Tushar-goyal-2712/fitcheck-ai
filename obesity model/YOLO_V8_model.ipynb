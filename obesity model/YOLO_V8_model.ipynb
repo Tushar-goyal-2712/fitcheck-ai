{
 "cells": [
  {
   "cell_type": "code",
   "execution_count": null,
   "id": "0dedc866-8df9-4da9-83f1-40558e9d0dd6",
   "metadata": {},
   "outputs": [],
   "source": [
    "from ultralytics import YOLO\n",
    "\n",
    "model = YOLO()\n",
    "model.train(data=\"data.yaml\", epochs = 25)"
   ]
  },
  {
   "cell_type": "code",
   "execution_count": null,
   "id": "3b2dd298-91cc-462e-8b3b-dc97fc571e6e",
   "metadata": {},
   "outputs": [],
   "source": [
    "from ultralytics import YOLO\n",
    "\n",
    "!yolo task= detect mode = val model= '/home/tushar.goyal/Documents/YOLO/runs/detect/train/weights/best.pt' data=data.yaml\n",
    " \n"
   ]
  },
  {
   "cell_type": "code",
   "execution_count": null,
   "id": "c0fc863b-551b-494e-8072-e0b970c7e26e",
   "metadata": {},
   "outputs": [],
   "source": [
    "from ultralytics import YOLO\n",
    "\n",
    "!yolo task= detect mode = predict model= '/home/tushar.goyal/Documents/YOLO/runs/detect/train/weights/best.pt' conf= 0.25 source='/home/tushar.goyal/Documents/YOLO/text_images'"
   ]
  },
  {
   "cell_type": "code",
   "execution_count": null,
   "id": "5723cc3b-5be9-4ce8-b371-690262b42500",
   "metadata": {},
   "outputs": [],
   "source": []
  },
  {
   "cell_type": "code",
   "execution_count": null,
   "id": "d3eddd88-d56b-4092-8a73-bf755e0b8cc0",
   "metadata": {},
   "outputs": [],
   "source": []
  }
 ],
 "metadata": {
  "kernelspec": {
   "display_name": "Python 3 (ipykernel)",
   "language": "python",
   "name": "python3"
  },
  "language_info": {
   "codemirror_mode": {
    "name": "ipython",
    "version": 3
   },
   "file_extension": ".py",
   "mimetype": "text/x-python",
   "name": "python",
   "nbconvert_exporter": "python",
   "pygments_lexer": "ipython3",
   "version": "3.12.4"
  }
 },
 "nbformat": 4,
 "nbformat_minor": 5
}
